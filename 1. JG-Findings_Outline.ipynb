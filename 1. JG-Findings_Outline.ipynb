{
 "cells": [
  {
   "cell_type": "markdown",
   "metadata": {},
   "source": [
    "# Applied Materials: Data Challenge - Findings Outline\n",
    "### Author: Jiayin Guo\n",
    "### March 28, 2022"
   ]
  },
  {
   "cell_type": "markdown",
   "metadata": {},
   "source": [
    "## Part 2) EDA and Tableau Visulization Results"
   ]
  },
  {
   "cell_type": "markdown",
   "metadata": {},
   "source": [
    "1. The three features `last_evaluation`, `number_project`, `average_montly_hours` are highly related, together, they can be interpreted as the measure of hard-working-ness/laziness/workload. It also has a polarized relationship with the left rate: those who are the least burdened and get a low evaluation score would leave, while those working most hard and get the highest score also tend to leave.\n",
    "2. `salary` has a clear relationship with the retention rate. Higher salary, lower probability of leaving. This result is consistent across all departments.\n",
    "3. The `satisfaction_level` is the most correlated numeric feature to our target. Those who are least satisfied as well as those who are most satisfied both tend to leave. `satisfaction_level` is most related to salary, promotion and Work Accident: getting a promotion and being paid well increase satisfaction. Interestingly, having had a work accident also improve it.\n",
    "4. Experienced employees (long `Time_spend_company`) have higher leaving rate than entrance level ones. They leave mainly for high burben of work (long working hours and large number of projects) and no promotion."
   ]
  },
  {
   "cell_type": "markdown",
   "metadata": {},
   "source": [
    "## Part 3) Prediction"
   ]
  },
  {
   "cell_type": "markdown",
   "metadata": {},
   "source": [
    "Performing 5-folds cross validation on the training set, the best models are DecisionTree, RandomForest and GradientBoosting.<br>\n",
    "Using test set to evaluate the models, __the best performer is RandomForest. It has an accuracy of 99.1%, along with a 99.3% precision and 96.9% recall.__"
   ]
  },
  {
   "cell_type": "markdown",
   "metadata": {},
   "source": [
    "## Part 4) Results and Discussion"
   ]
  },
  {
   "cell_type": "markdown",
   "metadata": {},
   "source": [
    "The most important features in modeling is the satisfaction level, followed by evaluation score, number of project and average monthly hours (in the EDA part we have seen that these three are highly correlated). The time spent at the company also plays an important role."
   ]
  },
  {
   "cell_type": "markdown",
   "metadata": {},
   "source": [
    "Combining the EDA and the modeling results, here are some recommendations I would give to company ABC to improve its employee retention rate:\n",
    "1. __The most important thing is to improve employees' satisfaction with the company. To accomplish this, the best practice is to give promotions and increase the salary.__ Deliberately designing work accidents may also improve satisfaction but I do NOT recommend it. __In saying that, do not make employees too comfortable.__ Those who are too satisfied also left, maybe for them, this job is not challenging enough.\n",
    "2. __If the company wants their most experienced employees stay, they should give them less work burben and promotion.__\n",
    "3. __Try not to give either too much or too little work to the employee.__ Work burden is highly related to the retention rate, and it's shown that those who have too much or too little work tend to leave and those who have an appropriate workload stay."
   ]
  }
 ],
 "metadata": {
  "kernelspec": {
   "display_name": "Python 3 (ipykernel)",
   "language": "python",
   "name": "python3"
  },
  "language_info": {
   "codemirror_mode": {
    "name": "ipython",
    "version": 3
   },
   "file_extension": ".py",
   "mimetype": "text/x-python",
   "name": "python",
   "nbconvert_exporter": "python",
   "pygments_lexer": "ipython3",
   "version": "3.9.10"
  }
 },
 "nbformat": 4,
 "nbformat_minor": 4
}
